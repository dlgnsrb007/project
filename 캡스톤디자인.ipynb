{
 "cells": [
  {
   "cell_type": "code",
   "execution_count": 1,
   "id": "349febd0-4ce5-4730-bbff-ead9c096bdb9",
   "metadata": {},
   "outputs": [],
   "source": [
    "import pandas as pd"
   ]
  },
  {
   "cell_type": "code",
   "execution_count": 2,
   "id": "6e03ae3b-7018-45f6-b777-1d25fb2cee7c",
   "metadata": {},
   "outputs": [],
   "source": [
    "train2 = pd.read_csv('./amazon.csv')"
   ]
  },
  {
   "cell_type": "code",
   "execution_count": 3,
   "id": "5501557c-b2a5-4717-ab05-896f64cc12d7",
   "metadata": {},
   "outputs": [],
   "source": [
    "train1_list2=train2"
   ]
  },
  {
   "cell_type": "code",
   "execution_count": 4,
   "id": "0b424aeb-28b4-4f66-80c7-6990c20dd0ac",
   "metadata": {},
   "outputs": [],
   "source": [
    "train1_list2['discounted_price'] = train1_list2['discounted_price'].str.replace(\"₹\",'')\n",
    "train1_list2['discounted_price'] = train1_list2['discounted_price'].str.replace(\",\",'')\n",
    "train1_list2['discounted_price'] = train1_list2['discounted_price'].astype('float64')\n",
    "#제품의 할인된 가격 데이터들의 단위와 콤마를 지우고 실수형으로 바꿔줍니다"
   ]
  },
  {
   "cell_type": "code",
   "execution_count": 5,
   "id": "21ab87c9-34d6-4475-89fb-f5c36b3f92df",
   "metadata": {},
   "outputs": [],
   "source": [
    "train1_list2['actual_price'] = train1_list2['actual_price'].str.replace(\"₹\",'')\n",
    "train1_list2['actual_price'] = train1_list2['actual_price'].str.replace(\",\",'')\n",
    "train1_list2['actual_price'] = train1_list2['actual_price'].astype('float64')\n",
    "#마찬가지로 제품의 실제 가격 데이터들의 단위와 콤마를 지우고 실수형으로 바꿔줍니다"
   ]
  },
  {
   "cell_type": "code",
   "execution_count": 6,
   "id": "6338707c-0fb8-473a-8e51-c365b21d00d2",
   "metadata": {},
   "outputs": [],
   "source": [
    "train1_list2['discount_percentage'] = train1_list2['discount_percentage'].str.replace('%','').astype('float64')\n",
    "#제품의 할인율 데이터들의 퍼센트를 지우고 실수형으로 바꿔줍니다"
   ]
  },
  {
   "cell_type": "code",
   "execution_count": 7,
   "id": "a989440b-37a5-419d-8ede-0b36fbfcc25d",
   "metadata": {},
   "outputs": [],
   "source": [
    "train1_list2.drop(train1_list2.loc[train1_list2['rating']=='|'].index, inplace=True)\n",
    "#소비자가 평가한 점수 데이터에 이상치가 있는 행을 지워 해결합니다"
   ]
  },
  {
   "cell_type": "code",
   "execution_count": 8,
   "id": "64399048-b4e9-4fd0-be66-7daabf7b07d3",
   "metadata": {},
   "outputs": [],
   "source": [
    "train1_list2['rating']=train1_list2['rating'].astype('float64')\n",
    "#다시 소비자가 평가한 점수 데이터들을 실수형으로 바꿔줍니다"
   ]
  },
  {
   "cell_type": "code",
   "execution_count": 9,
   "id": "1b51d58d-72f4-4a03-8be7-da209fcc3597",
   "metadata": {},
   "outputs": [],
   "source": [
    "train1_list2['rating_count'] = train1_list2['rating_count'].str.replace(',', '').astype('float64')\n",
    "#평가에 투표한 사람 수 데이터들의 콤마를 지우고 실수형으로 바꿔줍니다"
   ]
  },
  {
   "cell_type": "code",
   "execution_count": 10,
   "id": "4427e352-b96e-40b6-ad38-fb5000595ac1",
   "metadata": {},
   "outputs": [],
   "source": [
    "train1_list2.loc[train1_list2['rating'] >= 4.3, 'new_rating'] = 'A'\n",
    "train1_list2.loc[(train1_list2['rating'] >= 4.1) & (train1_list2['rating'] < 4.3), 'new_rating'] = 'B'\n",
    "train1_list2.loc[train1_list2['rating'] <= 4.0, 'new_rating'] = 'C'"
   ]
  },
  {
   "cell_type": "code",
   "execution_count": 11,
   "id": "18a001b4-6faf-42c3-ac56-04d39066d477",
   "metadata": {},
   "outputs": [],
   "source": [
    "train1_list2=train1_list2.dropna()"
   ]
  },
  {
   "cell_type": "code",
   "execution_count": 12,
   "id": "b1010fda-fb86-4156-868c-0f8268032214",
   "metadata": {},
   "outputs": [
    {
     "name": "stderr",
     "output_type": "stream",
     "text": [
      "C:\\Users\\hk679\\AppData\\Local\\Temp\\ipykernel_55856\\235877077.py:1: SettingWithCopyWarning: \n",
      "A value is trying to be set on a copy of a slice from a DataFrame.\n",
      "Try using .loc[row_indexer,col_indexer] = value instead\n",
      "\n",
      "See the caveats in the documentation: https://pandas.pydata.org/pandas-docs/stable/user_guide/indexing.html#returning-a-view-versus-a-copy\n",
      "  train1_list2['discount_percentage'] = train1_list2['discount_percentage']/100\n"
     ]
    }
   ],
   "source": [
    "train1_list2['discount_percentage'] = train1_list2['discount_percentage']/100\n",
    "#할인율은 퍼센트이기때문에 100 나눠준다"
   ]
  },
  {
   "cell_type": "code",
   "execution_count": 13,
   "id": "fbc8eb52-8b5f-41ad-8660-964631ca7faa",
   "metadata": {},
   "outputs": [
    {
     "data": {
      "text/html": [
       "<div>\n",
       "<style scoped>\n",
       "    .dataframe tbody tr th:only-of-type {\n",
       "        vertical-align: middle;\n",
       "    }\n",
       "\n",
       "    .dataframe tbody tr th {\n",
       "        vertical-align: top;\n",
       "    }\n",
       "\n",
       "    .dataframe thead th {\n",
       "        text-align: right;\n",
       "    }\n",
       "</style>\n",
       "<table border=\"1\" class=\"dataframe\">\n",
       "  <thead>\n",
       "    <tr style=\"text-align: right;\">\n",
       "      <th></th>\n",
       "      <th>discounted_price</th>\n",
       "      <th>actual_price</th>\n",
       "      <th>discount_percentage</th>\n",
       "      <th>rating</th>\n",
       "      <th>rating_count</th>\n",
       "    </tr>\n",
       "  </thead>\n",
       "  <tbody>\n",
       "    <tr>\n",
       "      <th>0</th>\n",
       "      <td>399.0</td>\n",
       "      <td>1099.0</td>\n",
       "      <td>64.0</td>\n",
       "      <td>4.2</td>\n",
       "      <td>24269.0</td>\n",
       "    </tr>\n",
       "    <tr>\n",
       "      <th>1</th>\n",
       "      <td>199.0</td>\n",
       "      <td>349.0</td>\n",
       "      <td>43.0</td>\n",
       "      <td>4.0</td>\n",
       "      <td>43994.0</td>\n",
       "    </tr>\n",
       "    <tr>\n",
       "      <th>2</th>\n",
       "      <td>199.0</td>\n",
       "      <td>1899.0</td>\n",
       "      <td>90.0</td>\n",
       "      <td>3.9</td>\n",
       "      <td>7928.0</td>\n",
       "    </tr>\n",
       "    <tr>\n",
       "      <th>3</th>\n",
       "      <td>329.0</td>\n",
       "      <td>699.0</td>\n",
       "      <td>53.0</td>\n",
       "      <td>4.2</td>\n",
       "      <td>94363.0</td>\n",
       "    </tr>\n",
       "    <tr>\n",
       "      <th>4</th>\n",
       "      <td>154.0</td>\n",
       "      <td>399.0</td>\n",
       "      <td>61.0</td>\n",
       "      <td>4.2</td>\n",
       "      <td>16905.0</td>\n",
       "    </tr>\n",
       "  </tbody>\n",
       "</table>\n",
       "</div>"
      ],
      "text/plain": [
       "   discounted_price  actual_price  discount_percentage  rating  rating_count\n",
       "0             399.0        1099.0                 64.0     4.2       24269.0\n",
       "1             199.0         349.0                 43.0     4.0       43994.0\n",
       "2             199.0        1899.0                 90.0     3.9        7928.0\n",
       "3             329.0         699.0                 53.0     4.2       94363.0\n",
       "4             154.0         399.0                 61.0     4.2       16905.0"
      ]
     },
     "execution_count": 13,
     "metadata": {},
     "output_type": "execute_result"
    }
   ],
   "source": [
    "list_b = ['discounted_price','actual_price', 'discount_percentage','rating','rating_count']\n",
    "train1_list3 = train2.loc[:, list_b]\n",
    "train1_list3.head()"
   ]
  },
  {
   "cell_type": "code",
   "execution_count": 14,
   "id": "e41fcec1-54e3-47a2-8131-b07c7ec439c8",
   "metadata": {},
   "outputs": [
    {
     "name": "stdout",
     "output_type": "stream",
     "text": [
      "      discounted_price  actual_price  discount_percentage  rating  \\\n",
      "0                399.0        1099.0                 64.0     4.2   \n",
      "1                199.0         349.0                 43.0     4.0   \n",
      "2                199.0        1899.0                 90.0     3.9   \n",
      "3                329.0         699.0                 53.0     4.2   \n",
      "4                154.0         399.0                 61.0     4.2   \n",
      "...                ...           ...                  ...     ...   \n",
      "1460             379.0         919.0                 59.0     4.0   \n",
      "1461            2280.0        3045.0                 25.0     4.1   \n",
      "1462            2219.0        3080.0                 28.0     3.6   \n",
      "1463            1399.0        1890.0                 26.0     4.0   \n",
      "1464            2863.0        3690.0                 22.0     4.3   \n",
      "\n",
      "      rating_count  \n",
      "0          24269.0  \n",
      "1          43994.0  \n",
      "2           7928.0  \n",
      "3          94363.0  \n",
      "4          16905.0  \n",
      "...            ...  \n",
      "1460        1090.0  \n",
      "1461        4118.0  \n",
      "1462         468.0  \n",
      "1463        8031.0  \n",
      "1464        6987.0  \n",
      "\n",
      "[1464 rows x 5 columns]\n"
     ]
    }
   ],
   "source": [
    "correlation_matrix = train1_list3\n",
    "print(correlation_matrix)"
   ]
  },
  {
   "cell_type": "code",
   "execution_count": 66,
   "id": "7c7b7f7a",
   "metadata": {},
   "outputs": [
    {
     "data": {
      "text/plain": [
       "C    534\n",
       "B    472\n",
       "A    456\n",
       "Name: new_rating, dtype: int64"
      ]
     },
     "execution_count": 66,
     "metadata": {},
     "output_type": "execute_result"
    }
   ],
   "source": [
    "train1_list2['new_rating'].value_counts()"
   ]
  },
  {
   "cell_type": "code",
   "execution_count": 15,
   "id": "16066f2d-b75f-49f7-bd9d-198bf2cc0e8d",
   "metadata": {},
   "outputs": [
    {
     "name": "stderr",
     "output_type": "stream",
     "text": [
      "C:\\Users\\hk679\\anaconda3\\lib\\site-packages\\scipy\\__init__.py:146: UserWarning: A NumPy version >=1.16.5 and <1.23.0 is required for this version of SciPy (detected version 1.26.2\n",
      "  warnings.warn(f\"A NumPy version >={np_minversion} and <{np_maxversion}\"\n",
      "C:\\Users\\hk679\\anaconda3\\lib\\site-packages\\requests\\__init__.py:109: RequestsDependencyWarning: urllib3 (2.1.0) or chardet (4.0.0)/charset_normalizer (2.0.4) doesn't match a supported version!\n",
      "  warnings.warn(\n"
     ]
    },
    {
     "name": "stdout",
     "output_type": "stream",
     "text": [
      "WARNING:tensorflow:From C:\\Users\\hk679\\anaconda3\\lib\\site-packages\\keras\\src\\losses.py:2976: The name tf.losses.sparse_softmax_cross_entropy is deprecated. Please use tf.compat.v1.losses.sparse_softmax_cross_entropy instead.\n",
      "\n"
     ]
    }
   ],
   "source": [
    "import pandas as pd\n",
    "import torch\n",
    "from torch.utils.data import TensorDataset\n",
    "from sklearn.model_selection import train_test_split\n",
    "from transformers import BertTokenizer, BertForSequenceClassification, Trainer, TrainingArguments"
   ]
  },
  {
   "cell_type": "code",
   "execution_count": 16,
   "id": "dd2f9aaf-a15f-4137-ae04-65753b051bd5",
   "metadata": {},
   "outputs": [],
   "source": [
    "import pandas as pd\n",
    "from sklearn.model_selection import train_test_split\n",
    "from transformers import BertTokenizer, BertForSequenceClassification, Trainer, TrainingArguments\n"
   ]
  },
  {
   "cell_type": "code",
   "execution_count": 17,
   "id": "583eeeaf-4525-4c6e-a394-ffb85b7dfb7d",
   "metadata": {},
   "outputs": [
    {
     "name": "stderr",
     "output_type": "stream",
     "text": [
      "C:\\Users\\hk679\\AppData\\Local\\Temp\\ipykernel_55856\\3425121526.py:1: SettingWithCopyWarning: \n",
      "A value is trying to be set on a copy of a slice from a DataFrame.\n",
      "Try using .loc[row_indexer,col_indexer] = value instead\n",
      "\n",
      "See the caveats in the documentation: https://pandas.pydata.org/pandas-docs/stable/user_guide/indexing.html#returning-a-view-versus-a-copy\n",
      "  train1_list2['combined_text'] = train1_list2.apply(\n"
     ]
    }
   ],
   "source": [
    "train1_list2['combined_text'] = train1_list2.apply(\n",
    "    lambda row: row['review_title'] + ' [SEP] ' + row['review_content'], axis=1\n",
    ")"
   ]
  },
  {
   "cell_type": "code",
   "execution_count": 18,
   "id": "7d0b3db2-f393-4ad4-a82f-d6029eabb4af",
   "metadata": {},
   "outputs": [],
   "source": [
    "# Function to train a model\n",
    "def train_model(text_column, label_column, model_name_suffix):\n",
    "    # Encode the labels as numbers\n",
    "    labels = {'A': 0, 'B': 1, 'C': 2}\n",
    "    train1_list2['encoded_rating'] = train1_list2[label_column].map(labels)\n",
    "\n",
    "    # Split the dataset\n",
    "    X_train, X_val, y_train, y_val = train_test_split(\n",
    "        train1_list2[text_column], train1_list2['encoded_rating'], test_size=0.2\n",
    "    )\n",
    "\n",
    "    # Load the tokenizer and model from the BERT base\n",
    "    tokenizer = BertTokenizer.from_pretrained('bert-base-uncased')\n",
    "    model = BertForSequenceClassification.from_pretrained('bert-base-uncased', num_labels=3)\n",
    "\n",
    "    # Tokenize and align the labels with the tokenized inputs\n",
    "    train_encodings = tokenizer(X_train.tolist(), truncation=True, padding=True, max_length=512)\n",
    "    val_encodings = tokenizer(X_val.tolist(), truncation=True, padding=True, max_length=512)\n",
    "\n",
    "    # Convert to torch Dataset\n",
    "    class ReviewDataset(torch.utils.data.Dataset):\n",
    "        def __init__(self, encodings, labels):\n",
    "            self.encodings = encodings\n",
    "            self.labels = labels\n",
    "\n",
    "        def __getitem__(self, idx):\n",
    "            item = {key: torch.tensor(val[idx]) for key, val in self.encodings.items()}\n",
    "            item['labels'] = torch.tensor(self.labels[idx])\n",
    "            return item\n",
    "\n",
    "        def __len__(self):\n",
    "            return len(self.labels)\n",
    "\n",
    "    train_dataset = ReviewDataset(train_encodings, y_train.tolist())\n",
    "    val_dataset = ReviewDataset(val_encodings, y_val.tolist())\n",
    "\n",
    "    # Define the training arguments\n",
    "    training_args = TrainingArguments(\n",
    "        output_dir='./results',\n",
    "        num_train_epochs=3,\n",
    "        per_device_train_batch_size=8,\n",
    "        warmup_steps=500,\n",
    "        weight_decay=0.01,\n",
    "        evaluation_strategy=\"epoch\"\n",
    "    )\n",
    "\n",
    "    # Initialize the Trainer\n",
    "    trainer = Trainer(\n",
    "        model=model,\n",
    "        args=training_args,\n",
    "        train_dataset=train_dataset,\n",
    "        eval_dataset=val_dataset\n",
    "    )\n",
    "\n",
    "    # Train the model\n",
    "    trainer.train()\n",
    "\n",
    "    # Evaluate the model\n",
    "    evaluation_results = trainer.evaluate()\n",
    "\n",
    "    # Save the model\n",
    "    model.save_pretrained(f'./model_{model_name_suffix}')\n",
    "\n",
    "    return evaluation_results"
   ]
  },
  {
   "cell_type": "code",
   "execution_count": 28,
   "id": "eb91a4e4-6451-48b6-8e02-8d5db82c9818",
   "metadata": {
    "scrolled": false
   },
   "outputs": [
    {
     "name": "stderr",
     "output_type": "stream",
     "text": [
      "C:\\Users\\hk679\\AppData\\Local\\Temp\\ipykernel_49876\\2502622132.py:5: SettingWithCopyWarning: \n",
      "A value is trying to be set on a copy of a slice from a DataFrame.\n",
      "Try using .loc[row_indexer,col_indexer] = value instead\n",
      "\n",
      "See the caveats in the documentation: https://pandas.pydata.org/pandas-docs/stable/user_guide/indexing.html#returning-a-view-versus-a-copy\n",
      "  train1_list2['encoded_rating'] = train1_list2[label_column].map(labels)\n",
      "Some weights of BertForSequenceClassification were not initialized from the model checkpoint at bert-base-uncased and are newly initialized: ['classifier.weight', 'classifier.bias']\n",
      "You should probably TRAIN this model on a down-stream task to be able to use it for predictions and inference.\n"
     ]
    },
    {
     "data": {
      "text/html": [
       "\n",
       "    <div>\n",
       "      \n",
       "      <progress value='441' max='441' style='width:300px; height:20px; vertical-align: middle;'></progress>\n",
       "      [441/441 4:42:50, Epoch 3/3]\n",
       "    </div>\n",
       "    <table border=\"1\" class=\"dataframe\">\n",
       "  <thead>\n",
       " <tr style=\"text-align: left;\">\n",
       "      <th>Epoch</th>\n",
       "      <th>Training Loss</th>\n",
       "      <th>Validation Loss</th>\n",
       "    </tr>\n",
       "  </thead>\n",
       "  <tbody>\n",
       "    <tr>\n",
       "      <td>1</td>\n",
       "      <td>No log</td>\n",
       "      <td>1.085160</td>\n",
       "    </tr>\n",
       "    <tr>\n",
       "      <td>2</td>\n",
       "      <td>No log</td>\n",
       "      <td>1.028503</td>\n",
       "    </tr>\n",
       "    <tr>\n",
       "      <td>3</td>\n",
       "      <td>No log</td>\n",
       "      <td>0.922435</td>\n",
       "    </tr>\n",
       "  </tbody>\n",
       "</table><p>"
      ],
      "text/plain": [
       "<IPython.core.display.HTML object>"
      ]
     },
     "metadata": {},
     "output_type": "display_data"
    },
    {
     "data": {
      "text/html": [
       "\n",
       "    <div>\n",
       "      \n",
       "      <progress value='37' max='37' style='width:300px; height:20px; vertical-align: middle;'></progress>\n",
       "      [37/37 04:55]\n",
       "    </div>\n",
       "    "
      ],
      "text/plain": [
       "<IPython.core.display.HTML object>"
      ]
     },
     "metadata": {},
     "output_type": "display_data"
    }
   ],
   "source": [
    "#content_eval_results = train_model('review_content', 'new_rating', 'content')"
   ]
  },
  {
   "cell_type": "code",
   "execution_count": 43,
   "id": "72d02cd7-391c-42ce-bb76-a110e8c5d2d6",
   "metadata": {},
   "outputs": [
    {
     "ename": "NameError",
     "evalue": "name 'tokenizer' is not defined",
     "output_type": "error",
     "traceback": [
      "\u001b[1;31m---------------------------------------------------------------------------\u001b[0m",
      "\u001b[1;31mNameError\u001b[0m                                 Traceback (most recent call last)",
      "Input \u001b[1;32mIn [43]\u001b[0m, in \u001b[0;36m<cell line: 1>\u001b[1;34m()\u001b[0m\n\u001b[1;32m----> 1\u001b[0m \u001b[43mtokenizer\u001b[49m\u001b[38;5;241m.\u001b[39msave_pretrained(\u001b[38;5;124m'\u001b[39m\u001b[38;5;124mmodel_content\u001b[39m\u001b[38;5;124m'\u001b[39m)\n",
      "\u001b[1;31mNameError\u001b[0m: name 'tokenizer' is not defined"
     ]
    }
   ],
   "source": [
    "#tokenizer.save_pretrained('model_content')"
   ]
  },
  {
   "cell_type": "code",
   "execution_count": 55,
   "id": "a05548e4-0284-468c-bbdd-4efcb0126c7f",
   "metadata": {},
   "outputs": [
    {
     "name": "stderr",
     "output_type": "stream",
     "text": [
      "C:\\Users\\hk679\\AppData\\Local\\Temp\\ipykernel_49876\\2502622132.py:5: SettingWithCopyWarning: \n",
      "A value is trying to be set on a copy of a slice from a DataFrame.\n",
      "Try using .loc[row_indexer,col_indexer] = value instead\n",
      "\n",
      "See the caveats in the documentation: https://pandas.pydata.org/pandas-docs/stable/user_guide/indexing.html#returning-a-view-versus-a-copy\n",
      "  train1_list2['encoded_rating'] = train1_list2[label_column].map(labels)\n",
      "Some weights of BertForSequenceClassification were not initialized from the model checkpoint at bert-base-uncased and are newly initialized: ['classifier.weight', 'classifier.bias']\n",
      "You should probably TRAIN this model on a down-stream task to be able to use it for predictions and inference.\n"
     ]
    },
    {
     "data": {
      "text/html": [
       "\n",
       "    <div>\n",
       "      \n",
       "      <progress value='441' max='441' style='width:300px; height:20px; vertical-align: middle;'></progress>\n",
       "      [441/441 29:36, Epoch 3/3]\n",
       "    </div>\n",
       "    <table border=\"1\" class=\"dataframe\">\n",
       "  <thead>\n",
       " <tr style=\"text-align: left;\">\n",
       "      <th>Epoch</th>\n",
       "      <th>Training Loss</th>\n",
       "      <th>Validation Loss</th>\n",
       "    </tr>\n",
       "  </thead>\n",
       "  <tbody>\n",
       "    <tr>\n",
       "      <td>1</td>\n",
       "      <td>No log</td>\n",
       "      <td>1.058677</td>\n",
       "    </tr>\n",
       "    <tr>\n",
       "      <td>2</td>\n",
       "      <td>No log</td>\n",
       "      <td>0.985992</td>\n",
       "    </tr>\n",
       "    <tr>\n",
       "      <td>3</td>\n",
       "      <td>No log</td>\n",
       "      <td>0.918288</td>\n",
       "    </tr>\n",
       "  </tbody>\n",
       "</table><p>"
      ],
      "text/plain": [
       "<IPython.core.display.HTML object>"
      ]
     },
     "metadata": {},
     "output_type": "display_data"
    },
    {
     "data": {
      "text/html": [
       "\n",
       "    <div>\n",
       "      \n",
       "      <progress value='37' max='37' style='width:300px; height:20px; vertical-align: middle;'></progress>\n",
       "      [37/37 00:37]\n",
       "    </div>\n",
       "    "
      ],
      "text/plain": [
       "<IPython.core.display.HTML object>"
      ]
     },
     "metadata": {},
     "output_type": "display_data"
    }
   ],
   "source": [
    "#title_eval_results = train_model('review_title', 'new_rating', 'title')"
   ]
  },
  {
   "cell_type": "code",
   "execution_count": 62,
   "id": "1127a9ff-7774-4061-afb6-497016be59cb",
   "metadata": {
    "scrolled": false
   },
   "outputs": [
    {
     "name": "stderr",
     "output_type": "stream",
     "text": [
      "C:\\Users\\hk679\\AppData\\Local\\Temp\\ipykernel_49876\\2502622132.py:5: SettingWithCopyWarning: \n",
      "A value is trying to be set on a copy of a slice from a DataFrame.\n",
      "Try using .loc[row_indexer,col_indexer] = value instead\n",
      "\n",
      "See the caveats in the documentation: https://pandas.pydata.org/pandas-docs/stable/user_guide/indexing.html#returning-a-view-versus-a-copy\n",
      "  train1_list2['encoded_rating'] = train1_list2[label_column].map(labels)\n",
      "Some weights of BertForSequenceClassification were not initialized from the model checkpoint at bert-base-uncased and are newly initialized: ['classifier.weight', 'classifier.bias']\n",
      "You should probably TRAIN this model on a down-stream task to be able to use it for predictions and inference.\n"
     ]
    },
    {
     "data": {
      "text/html": [
       "\n",
       "    <div>\n",
       "      \n",
       "      <progress value='441' max='441' style='width:300px; height:20px; vertical-align: middle;'></progress>\n",
       "      [441/441 5:08:40, Epoch 3/3]\n",
       "    </div>\n",
       "    <table border=\"1\" class=\"dataframe\">\n",
       "  <thead>\n",
       " <tr style=\"text-align: left;\">\n",
       "      <th>Epoch</th>\n",
       "      <th>Training Loss</th>\n",
       "      <th>Validation Loss</th>\n",
       "    </tr>\n",
       "  </thead>\n",
       "  <tbody>\n",
       "    <tr>\n",
       "      <td>1</td>\n",
       "      <td>No log</td>\n",
       "      <td>1.071689</td>\n",
       "    </tr>\n",
       "    <tr>\n",
       "      <td>2</td>\n",
       "      <td>No log</td>\n",
       "      <td>1.107663</td>\n",
       "    </tr>\n",
       "    <tr>\n",
       "      <td>3</td>\n",
       "      <td>No log</td>\n",
       "      <td>0.894035</td>\n",
       "    </tr>\n",
       "  </tbody>\n",
       "</table><p>"
      ],
      "text/plain": [
       "<IPython.core.display.HTML object>"
      ]
     },
     "metadata": {},
     "output_type": "display_data"
    },
    {
     "data": {
      "text/html": [
       "\n",
       "    <div>\n",
       "      \n",
       "      <progress value='37' max='37' style='width:300px; height:20px; vertical-align: middle;'></progress>\n",
       "      [37/37 05:20]\n",
       "    </div>\n",
       "    "
      ],
      "text/plain": [
       "<IPython.core.display.HTML object>"
      ]
     },
     "metadata": {},
     "output_type": "display_data"
    }
   ],
   "source": [
    "#combined_eval_results = train_model('combined_text', 'new_rating', 'combined')"
   ]
  },
  {
   "cell_type": "code",
   "execution_count": 21,
   "id": "d8f7ee37-9aeb-46e4-91d0-00a101647dda",
   "metadata": {
    "scrolled": false
   },
   "outputs": [
    {
     "name": "stdout",
     "output_type": "stream",
     "text": [
      "Content Model Evaluation: {'eval_loss': 0.9224347472190857, 'eval_runtime': 303.8821, 'eval_samples_per_second': 0.964, 'eval_steps_per_second': 0.122, 'epoch': 3.0}\n",
      "------------------------------------------------------------------------------\n",
      "Title Model Evaluation: {'eval_loss': 0.9182882905006409, 'eval_runtime': 38.2325, 'eval_samples_per_second': 7.664, 'eval_steps_per_second': 0.968, 'epoch': 3.0}\n",
      "------------------------------------------------------------------------------\n",
      "Combined Model Evaluation: {'eval_loss': 0.8940354585647583, 'eval_runtime': 330.6187, 'eval_samples_per_second': 0.886, 'eval_steps_per_second': 0.112, 'epoch': 3.0}\n"
     ]
    }
   ],
   "source": [
    "print(\"Content Model Evaluation:\", content_eval_results)\n",
    "print(\"------------------------------------------------------------------------------\")\n",
    "print(\"Title Model Evaluation:\", title_eval_results)\n",
    "print(\"------------------------------------------------------------------------------\")\n",
    "print(\"Combined Model Evaluation:\", combined_eval_results)"
   ]
  },
  {
   "cell_type": "code",
   "execution_count": 35,
   "id": "da6bf01f",
   "metadata": {},
   "outputs": [],
   "source": [
    "content_accuracy = content_eval_results.get('eval_accuracy', 'No accuracy data')\n",
    "title_accuracy = title_eval_results.get('eval_accuracy', 'No accuracy data')\n",
    "combined_accuracy = combined_eval_results.get('eval_accuracy', 'No accuracy data')"
   ]
  },
  {
   "cell_type": "code",
   "execution_count": 36,
   "id": "87c33b3a",
   "metadata": {},
   "outputs": [
    {
     "name": "stdout",
     "output_type": "stream",
     "text": [
      "Content Model Accuracy: No accuracy data\n",
      "Title Model Accuracy: No accuracy data\n",
      "Combined Model Accuracy: No accuracy data\n"
     ]
    }
   ],
   "source": [
    "print(f\"Content Model Accuracy: {content_accuracy}\")\n",
    "print(f\"Title Model Accuracy: {title_accuracy}\")\n",
    "print(f\"Combined Model Accuracy: {combined_accuracy}\")"
   ]
  },
  {
   "cell_type": "code",
   "execution_count": 71,
   "id": "7f66e30e-fd0d-4328-8786-c8ae25b94734",
   "metadata": {},
   "outputs": [],
   "source": [
    "#json 파일로 저장"
   ]
  },
  {
   "cell_type": "code",
   "execution_count": 18,
   "id": "ed2b3c5a-2431-4d83-b499-fffc1b645aa9",
   "metadata": {},
   "outputs": [],
   "source": [
    "import json"
   ]
  },
  {
   "cell_type": "code",
   "execution_count": 77,
   "id": "05484f07-e8b2-4e8c-ab0b-7065200f7676",
   "metadata": {},
   "outputs": [],
   "source": [
    "#def save_results(results, filename):\n",
    "    #with open(filename, 'w') as file:\n",
    "        #json.dump(results, file, indent=4)"
   ]
  },
  {
   "cell_type": "code",
   "execution_count": 75,
   "id": "93ec815d-82c5-489f-bfd2-80948c25a5c5",
   "metadata": {},
   "outputs": [],
   "source": [
    "#save_results(content_eval_results, 'content_eval_results.json')\n",
    "#save_results(title_eval_results, 'title_eval_results.json')\n",
    "#save_results(combined_eval_results, 'combined_eval_results.json')"
   ]
  },
  {
   "cell_type": "code",
   "execution_count": 72,
   "id": "6d9099c0-9996-4706-aa37-6118968bb280",
   "metadata": {},
   "outputs": [],
   "source": [
    "#json 파일 불러오기"
   ]
  },
  {
   "cell_type": "code",
   "execution_count": 19,
   "id": "9d82311e-ac37-423c-a45f-2a281d92008f",
   "metadata": {},
   "outputs": [],
   "source": [
    "def load_results(filename):\n",
    "    with open(filename, 'r') as file:\n",
    "        return json.load(file)"
   ]
  },
  {
   "cell_type": "code",
   "execution_count": 20,
   "id": "25f36768-3824-4029-a984-0542fbcf9353",
   "metadata": {},
   "outputs": [],
   "source": [
    "content_eval_results = load_results('content_eval_results.json')\n",
    "title_eval_results = load_results('title_eval_results.json')\n",
    "combined_eval_results = load_results('combined_eval_results.json')"
   ]
  },
  {
   "cell_type": "code",
   "execution_count": 45,
   "id": "9806a6de-d29f-4ce4-a88c-5b81282dd55d",
   "metadata": {},
   "outputs": [],
   "source": [
    "tokenizer = BertTokenizer.from_pretrained('bert-base-uncased')"
   ]
  },
  {
   "cell_type": "code",
   "execution_count": 47,
   "id": "b836abff-72db-4a96-81a1-e5a4ea4aac2c",
   "metadata": {},
   "outputs": [
    {
     "data": {
      "text/plain": [
       "('model_content\\\\tokenizer_config.json',\n",
       " 'model_content\\\\special_tokens_map.json',\n",
       " 'model_content\\\\vocab.txt',\n",
       " 'model_content\\\\added_tokens.json')"
      ]
     },
     "execution_count": 47,
     "metadata": {},
     "output_type": "execute_result"
    }
   ],
   "source": [
    "#tokenizer.save_pretrained('model_content')"
   ]
  },
  {
   "cell_type": "code",
   "execution_count": 57,
   "id": "ed347ce1-4103-4c9d-a916-b681581a4d25",
   "metadata": {},
   "outputs": [
    {
     "data": {
      "text/plain": [
       "('model_title\\\\tokenizer_config.json',\n",
       " 'model_title\\\\special_tokens_map.json',\n",
       " 'model_title\\\\vocab.txt',\n",
       " 'model_title\\\\added_tokens.json')"
      ]
     },
     "execution_count": 57,
     "metadata": {},
     "output_type": "execute_result"
    }
   ],
   "source": [
    "#tokenizer.save_pretrained('model_title')"
   ]
  },
  {
   "cell_type": "code",
   "execution_count": 64,
   "id": "ed072451-e2e0-48e6-98d6-87c39023ad15",
   "metadata": {},
   "outputs": [
    {
     "data": {
      "text/plain": [
       "('model_combined\\\\tokenizer_config.json',\n",
       " 'model_combined\\\\special_tokens_map.json',\n",
       " 'model_combined\\\\vocab.txt',\n",
       " 'model_combined\\\\added_tokens.json')"
      ]
     },
     "execution_count": 64,
     "metadata": {},
     "output_type": "execute_result"
    }
   ],
   "source": [
    "#tokenizer.save_pretrained('model_combined')"
   ]
  },
  {
   "cell_type": "code",
   "execution_count": 22,
   "id": "98c097a0-9914-4b09-a2f5-ec8aacfa3d8e",
   "metadata": {},
   "outputs": [
    {
     "name": "stderr",
     "output_type": "stream",
     "text": [
      "Special tokens have been added in the vocabulary, make sure the associated word embeddings are fine-tuned or trained.\n"
     ]
    }
   ],
   "source": [
    "tokenizer = BertTokenizer.from_pretrained('model_content')"
   ]
  },
  {
   "cell_type": "code",
   "execution_count": 23,
   "id": "85e8056b-4087-4017-8fe6-cd4440755a97",
   "metadata": {},
   "outputs": [
    {
     "name": "stderr",
     "output_type": "stream",
     "text": [
      "Special tokens have been added in the vocabulary, make sure the associated word embeddings are fine-tuned or trained.\n"
     ]
    }
   ],
   "source": [
    "tokenizer = BertTokenizer.from_pretrained('model_title')"
   ]
  },
  {
   "cell_type": "code",
   "execution_count": 24,
   "id": "febef7e8-eae6-4208-a7e9-8650383a0026",
   "metadata": {},
   "outputs": [
    {
     "name": "stderr",
     "output_type": "stream",
     "text": [
      "Special tokens have been added in the vocabulary, make sure the associated word embeddings are fine-tuned or trained.\n"
     ]
    }
   ],
   "source": [
    "tokenizer = BertTokenizer.from_pretrained('model_combined')"
   ]
  },
  {
   "cell_type": "code",
   "execution_count": 25,
   "id": "8240c154-71b4-4644-baf9-8ccc0d8ea1cb",
   "metadata": {},
   "outputs": [],
   "source": [
    "model = BertForSequenceClassification.from_pretrained('model_content')"
   ]
  },
  {
   "cell_type": "code",
   "execution_count": 26,
   "id": "51b89572-0c44-43c3-89c7-17d6c2c1094e",
   "metadata": {},
   "outputs": [],
   "source": [
    "model = BertForSequenceClassification.from_pretrained('model_title')"
   ]
  },
  {
   "cell_type": "code",
   "execution_count": 27,
   "id": "d7cce2b1-70d4-4ccf-bba2-c9c502c3b11c",
   "metadata": {},
   "outputs": [],
   "source": [
    "model = BertForSequenceClassification.from_pretrained('model_combined')"
   ]
  },
  {
   "cell_type": "code",
   "execution_count": 28,
   "id": "921d32b3-3df9-47d5-b8ce-b6752a0c3a69",
   "metadata": {},
   "outputs": [],
   "source": [
    "def predict(text, tokenizer, model):\n",
    "    # Encode the text, adding the required special tokens and converting to Tensor\n",
    "    inputs = tokenizer.encode_plus(\n",
    "        text,\n",
    "        add_special_tokens=True,\n",
    "        max_length=512,\n",
    "        padding='max_length',\n",
    "        truncation=True,\n",
    "        return_tensors='pt'\n",
    "    )\n",
    "\n",
    "    # Get the predictions\n",
    "    with torch.no_grad():  # This tells the model not to compute or store gradients, saving memory and speeding up prediction\n",
    "        outputs = model(**inputs)\n",
    "\n",
    "    # The logits are the unnormalized final scores output by the last layer of the model\n",
    "    logits = outputs.logits\n",
    "\n",
    "    # We can apply softmax to get probabilities and then use argmax to get the predicted class\n",
    "    probabilities = torch.nn.functional.softmax(logits, dim=1)\n",
    "    predicted_class = torch.argmax(probabilities, dim=1)\n",
    "\n",
    "    # Convert the predicted class index into the corresponding label\n",
    "    label_map = {0: 'A', 1: 'B', 2: 'C'}\n",
    "    predicted_label = label_map[predicted_class.item()]\n",
    "\n",
    "    return predicted_label, probabilities\n"
   ]
  },
  {
   "cell_type": "code",
   "execution_count": 39,
   "id": "bd69e972-2ce6-4e33-8ba5-0a86f061c588",
   "metadata": {},
   "outputs": [
    {
     "name": "stdout",
     "output_type": "stream",
     "text": [
      "예측 등급: A\n",
      "Class Probabilities: tensor([[0.5980, 0.2137, 0.1883]])\n"
     ]
    }
   ],
   "source": [
    "text_to_predict = \"It's expensive compared to satisfaction, but it's worth using\"\n",
    "predicted_label, probabilities = predict(text_to_predict, tokenizer, model)\n",
    "print(f\"예측 등급: {predicted_label}\")\n",
    "print(f\"Class Probabilities: {probabilities}\")"
   ]
  },
  {
   "cell_type": "code",
   "execution_count": 29,
   "id": "e60a841f",
   "metadata": {},
   "outputs": [
    {
     "name": "stderr",
     "output_type": "stream",
     "text": [
      "Special tokens have been added in the vocabulary, make sure the associated word embeddings are fine-tuned or trained.\n"
     ]
    }
   ],
   "source": [
    "tokenizer_content = BertTokenizer.from_pretrained('model_content')\n",
    "model_content = BertForSequenceClassification.from_pretrained('model_content')\n"
   ]
  },
  {
   "cell_type": "code",
   "execution_count": 30,
   "id": "11186df3",
   "metadata": {},
   "outputs": [
    {
     "name": "stderr",
     "output_type": "stream",
     "text": [
      "Special tokens have been added in the vocabulary, make sure the associated word embeddings are fine-tuned or trained.\n"
     ]
    }
   ],
   "source": [
    "tokenizer_title = BertTokenizer.from_pretrained('model_title')\n",
    "model_title = BertForSequenceClassification.from_pretrained('model_title')"
   ]
  },
  {
   "cell_type": "code",
   "execution_count": 31,
   "id": "e39a019a",
   "metadata": {},
   "outputs": [
    {
     "name": "stderr",
     "output_type": "stream",
     "text": [
      "Special tokens have been added in the vocabulary, make sure the associated word embeddings are fine-tuned or trained.\n"
     ]
    }
   ],
   "source": [
    "tokenizer_combined = BertTokenizer.from_pretrained('model_combined')\n",
    "model_combined = BertForSequenceClassification.from_pretrained('model_combined')"
   ]
  },
  {
   "cell_type": "code",
   "execution_count": 117,
   "id": "e1ff1620",
   "metadata": {},
   "outputs": [],
   "source": [
    "def predict_class(text, tokenizer, model):\n",
    "    inputs = tokenizer.encode_plus(\n",
    "        text, add_special_tokens=True, max_length=512, \n",
    "        padding='max_length', truncation=True, return_tensors='pt'\n",
    "    )\n",
    "\n",
    "    with torch.no_grad():\n",
    "        outputs = model(**inputs)\n",
    "        logits = outputs.logits\n",
    "        probabilities = torch.nn.functional.softmax(logits, dim=1)\n",
    "        predicted_class_index = torch.argmax(probabilities, dim=1).item()\n",
    "    \n",
    "    # Mapping index to label\n",
    "    class_mapping = {0: 'A', 1: 'B', 2: 'C'}\n",
    "    return class_mapping[predicted_class_index]\n"
   ]
  },
  {
   "cell_type": "code",
   "execution_count": 120,
   "id": "4306f6ba",
   "metadata": {},
   "outputs": [],
   "source": [
    "sample_texts = [\"I recommend it because it's a great product\", \"It's nice to have it, but I don't think it's a must-buy product\",\"It's a bad product, so I don't think I'll buy it again\"]\n",
    "#좋은 제품이라 추천드립니다,가지고 있는 것도 좋지만 꼭 사야 할 제품은 아닌 것 같습니다,불량품이라 다시는 구매하지 않을 것 같습니다"
   ]
  },
  {
   "cell_type": "code",
   "execution_count": 121,
   "id": "290df0f3",
   "metadata": {
    "scrolled": true
   },
   "outputs": [
    {
     "name": "stdout",
     "output_type": "stream",
     "text": [
      "사용자 리뷰: I recommend it because it's a great product\n",
      "긴 리뷰 모델: ('A', tensor([[0.6155, 0.2425, 0.1420]]))\n",
      "짧은 리뷰 모델: ('A', tensor([[0.7559, 0.1699, 0.0743]]))\n",
      "짧은 리뷰+ 긴 리뷰 모델: ('A', tensor([[0.6775, 0.2256, 0.0970]]))\n",
      "------------------------------------------------------------------------\n",
      "사용자 리뷰: It's nice to have it, but I don't think it's a must-buy product\n",
      "긴 리뷰 모델: ('C', tensor([[0.1439, 0.2535, 0.6026]]))\n",
      "짧은 리뷰 모델: ('A', tensor([[0.7240, 0.2229, 0.0532]]))\n",
      "짧은 리뷰+ 긴 리뷰 모델: ('B', tensor([[0.3494, 0.4424, 0.2082]]))\n",
      "------------------------------------------------------------------------\n",
      "사용자 리뷰: It's a bad product, so I don't think I'll buy it again\n",
      "긴 리뷰 모델: ('C', tensor([[0.1437, 0.2021, 0.6542]]))\n",
      "짧은 리뷰 모델: ('A', tensor([[0.4680, 0.3423, 0.1897]]))\n",
      "짧은 리뷰+ 긴 리뷰 모델: ('C', tensor([[0.1089, 0.1948, 0.6964]]))\n",
      "------------------------------------------------------------------------\n"
     ]
    }
   ],
   "source": [
    "for text in sample_texts:\n",
    "    pred_content = predict(text, tokenizer_content, model_content)\n",
    "    pred_title = predict(text, tokenizer_title, model_title)\n",
    "    pred_combined = predict(text, tokenizer_combined, model_combined)\n",
    "\n",
    "    print(f\"사용자 리뷰: {text}\")\n",
    "    print(f\"긴 리뷰 모델: {pred_content}\")\n",
    "    print(f\"짧은 리뷰 모델: {pred_title}\")\n",
    "    print(f\"짧은 리뷰+ 긴 리뷰 모델: {pred_combined}\")\n",
    "    print(\"------------------------------------------------------------------------\")"
   ]
  },
  {
   "cell_type": "code",
   "execution_count": 39,
   "id": "21fdb74f",
   "metadata": {},
   "outputs": [],
   "source": [
    "def calculate_accuracy(model, tokenizer, X_val, y_val):\n",
    "    # Tokenize validation data\n",
    "    val_encodings = tokenizer(X_val.tolist(), truncation=True, padding=True, max_length=512, return_tensors=\"pt\")\n",
    "\n",
    "    # Prepare dataset\n",
    "    class SimpleDataset(torch.utils.data.Dataset):\n",
    "        def __init__(self, encodings, labels):\n",
    "            self.encodings = encodings\n",
    "            self.labels = labels\n",
    "\n",
    "        def __getitem__(self, idx):\n",
    "            item = {key: val[idx] for key, val in self.encodings.items()}\n",
    "            item['labels'] = torch.tensor(self.labels[idx])\n",
    "            return item\n",
    "\n",
    "        def __len__(self):\n",
    "            return len(self.labels)\n",
    "\n",
    "    val_dataset = SimpleDataset(val_encodings, y_val)\n",
    "\n",
    "    # Initialize Trainer\n",
    "    trainer = Trainer(model)\n",
    "\n",
    "    # Make predictions\n",
    "    raw_pred, _, _ = trainer.predict(val_dataset)\n",
    "\n",
    "    # Calculate accuracy\n",
    "    preds = np.argmax(raw_pred, axis=1)\n",
    "    accuracy = accuracy_score(y_val, preds)\n",
    "    return accuracy"
   ]
  },
  {
   "cell_type": "code",
   "execution_count": 41,
   "id": "9143653d",
   "metadata": {},
   "outputs": [],
   "source": [
    "from sklearn.model_selection import train_test_split"
   ]
  },
  {
   "cell_type": "code",
   "execution_count": 45,
   "id": "76500a2c",
   "metadata": {
    "scrolled": true
   },
   "outputs": [
    {
     "data": {
      "text/html": [
       "<div>\n",
       "<style scoped>\n",
       "    .dataframe tbody tr th:only-of-type {\n",
       "        vertical-align: middle;\n",
       "    }\n",
       "\n",
       "    .dataframe tbody tr th {\n",
       "        vertical-align: top;\n",
       "    }\n",
       "\n",
       "    .dataframe thead th {\n",
       "        text-align: right;\n",
       "    }\n",
       "</style>\n",
       "<table border=\"1\" class=\"dataframe\">\n",
       "  <thead>\n",
       "    <tr style=\"text-align: right;\">\n",
       "      <th></th>\n",
       "      <th>product_id</th>\n",
       "      <th>product_name</th>\n",
       "      <th>category</th>\n",
       "      <th>discounted_price</th>\n",
       "      <th>actual_price</th>\n",
       "      <th>discount_percentage</th>\n",
       "      <th>rating</th>\n",
       "      <th>rating_count</th>\n",
       "      <th>about_product</th>\n",
       "      <th>user_id</th>\n",
       "      <th>user_name</th>\n",
       "      <th>review_id</th>\n",
       "      <th>review_title</th>\n",
       "      <th>review_content</th>\n",
       "      <th>img_link</th>\n",
       "      <th>product_link</th>\n",
       "      <th>new_rating</th>\n",
       "      <th>combined_text</th>\n",
       "    </tr>\n",
       "  </thead>\n",
       "  <tbody>\n",
       "    <tr>\n",
       "      <th>0</th>\n",
       "      <td>B07JW9H4J1</td>\n",
       "      <td>Wayona Nylon Braided USB to Lightning Fast Cha...</td>\n",
       "      <td>Computers&amp;Accessories|Accessories&amp;Peripherals|...</td>\n",
       "      <td>399.0</td>\n",
       "      <td>1099.0</td>\n",
       "      <td>0.64</td>\n",
       "      <td>4.2</td>\n",
       "      <td>24269.0</td>\n",
       "      <td>High Compatibility : Compatible With iPhone 12...</td>\n",
       "      <td>AG3D6O4STAQKAY2UVGEUV46KN35Q,AHMY5CWJMMK5BJRBB...</td>\n",
       "      <td>Manav,Adarsh gupta,Sundeep,S.Sayeed Ahmed,jasp...</td>\n",
       "      <td>R3HXWT0LRP0NMF,R2AJM3LFTLZHFO,R6AQJGUP6P86,R1K...</td>\n",
       "      <td>Satisfied,Charging is really fast,Value for mo...</td>\n",
       "      <td>Looks durable Charging is fine tooNo complains...</td>\n",
       "      <td>https://m.media-amazon.com/images/W/WEBP_40237...</td>\n",
       "      <td>https://www.amazon.in/Wayona-Braided-WN3LG1-Sy...</td>\n",
       "      <td>B</td>\n",
       "      <td>Satisfied,Charging is really fast,Value for mo...</td>\n",
       "    </tr>\n",
       "    <tr>\n",
       "      <th>1</th>\n",
       "      <td>B098NS6PVG</td>\n",
       "      <td>Ambrane Unbreakable 60W / 3A Fast Charging 1.5...</td>\n",
       "      <td>Computers&amp;Accessories|Accessories&amp;Peripherals|...</td>\n",
       "      <td>199.0</td>\n",
       "      <td>349.0</td>\n",
       "      <td>0.43</td>\n",
       "      <td>4.0</td>\n",
       "      <td>43994.0</td>\n",
       "      <td>Compatible with all Type C enabled devices, be...</td>\n",
       "      <td>AECPFYFQVRUWC3KGNLJIOREFP5LQ,AGYYVPDD7YG7FYNBX...</td>\n",
       "      <td>ArdKn,Nirbhay kumar,Sagar Viswanathan,Asp,Plac...</td>\n",
       "      <td>RGIQEG07R9HS2,R1SMWZQ86XIN8U,R2J3Y1WL29GWDE,RY...</td>\n",
       "      <td>A Good Braided Cable for Your Type C Device,Go...</td>\n",
       "      <td>I ordered this cable to connect my phone to An...</td>\n",
       "      <td>https://m.media-amazon.com/images/W/WEBP_40237...</td>\n",
       "      <td>https://www.amazon.in/Ambrane-Unbreakable-Char...</td>\n",
       "      <td>C</td>\n",
       "      <td>A Good Braided Cable for Your Type C Device,Go...</td>\n",
       "    </tr>\n",
       "    <tr>\n",
       "      <th>2</th>\n",
       "      <td>B096MSW6CT</td>\n",
       "      <td>Sounce Fast Phone Charging Cable &amp; Data Sync U...</td>\n",
       "      <td>Computers&amp;Accessories|Accessories&amp;Peripherals|...</td>\n",
       "      <td>199.0</td>\n",
       "      <td>1899.0</td>\n",
       "      <td>0.90</td>\n",
       "      <td>3.9</td>\n",
       "      <td>7928.0</td>\n",
       "      <td>【 Fast Charger&amp; Data Sync】-With built-in safet...</td>\n",
       "      <td>AGU3BBQ2V2DDAMOAKGFAWDDQ6QHA,AESFLDV2PT363T2AQ...</td>\n",
       "      <td>Kunal,Himanshu,viswanath,sai niharka,saqib mal...</td>\n",
       "      <td>R3J3EQQ9TZI5ZJ,R3E7WBGK7ID0KV,RWU79XKQ6I1QF,R2...</td>\n",
       "      <td>Good speed for earlier versions,Good Product,W...</td>\n",
       "      <td>Not quite durable and sturdy,https://m.media-a...</td>\n",
       "      <td>https://m.media-amazon.com/images/W/WEBP_40237...</td>\n",
       "      <td>https://www.amazon.in/Sounce-iPhone-Charging-C...</td>\n",
       "      <td>C</td>\n",
       "      <td>Good speed for earlier versions,Good Product,W...</td>\n",
       "    </tr>\n",
       "    <tr>\n",
       "      <th>3</th>\n",
       "      <td>B08HDJ86NZ</td>\n",
       "      <td>boAt Deuce USB 300 2 in 1 Type-C &amp; Micro USB S...</td>\n",
       "      <td>Computers&amp;Accessories|Accessories&amp;Peripherals|...</td>\n",
       "      <td>329.0</td>\n",
       "      <td>699.0</td>\n",
       "      <td>0.53</td>\n",
       "      <td>4.2</td>\n",
       "      <td>94363.0</td>\n",
       "      <td>The boAt Deuce USB 300 2 in 1 cable is compati...</td>\n",
       "      <td>AEWAZDZZJLQUYVOVGBEUKSLXHQ5A,AG5HTSFRRE6NL3M5S...</td>\n",
       "      <td>Omkar dhale,JD,HEMALATHA,Ajwadh a.,amar singh ...</td>\n",
       "      <td>R3EEUZKKK9J36I,R3HJVYCLYOY554,REDECAZ7AMPQC,R1...</td>\n",
       "      <td>Good product,Good one,Nice,Really nice product...</td>\n",
       "      <td>Good product,long wire,Charges good,Nice,I bou...</td>\n",
       "      <td>https://m.media-amazon.com/images/I/41V5FtEWPk...</td>\n",
       "      <td>https://www.amazon.in/Deuce-300-Resistant-Tang...</td>\n",
       "      <td>B</td>\n",
       "      <td>Good product,Good one,Nice,Really nice product...</td>\n",
       "    </tr>\n",
       "    <tr>\n",
       "      <th>4</th>\n",
       "      <td>B08CF3B7N1</td>\n",
       "      <td>Portronics Konnect L 1.2M Fast Charging 3A 8 P...</td>\n",
       "      <td>Computers&amp;Accessories|Accessories&amp;Peripherals|...</td>\n",
       "      <td>154.0</td>\n",
       "      <td>399.0</td>\n",
       "      <td>0.61</td>\n",
       "      <td>4.2</td>\n",
       "      <td>16905.0</td>\n",
       "      <td>[CHARGE &amp; SYNC FUNCTION]- This cable comes wit...</td>\n",
       "      <td>AE3Q6KSUK5P75D5HFYHCRAOLODSA,AFUGIFH5ZAFXRDSZH...</td>\n",
       "      <td>rahuls6099,Swasat Borah,Ajay Wadke,Pranali,RVK...</td>\n",
       "      <td>R1BP4L2HH9TFUP,R16PVJEXKV6QZS,R2UPDB81N66T4P,R...</td>\n",
       "      <td>As good as original,Decent,Good one for second...</td>\n",
       "      <td>Bought this instead of original apple, does th...</td>\n",
       "      <td>https://m.media-amazon.com/images/W/WEBP_40237...</td>\n",
       "      <td>https://www.amazon.in/Portronics-Konnect-POR-1...</td>\n",
       "      <td>B</td>\n",
       "      <td>As good as original,Decent,Good one for second...</td>\n",
       "    </tr>\n",
       "    <tr>\n",
       "      <th>...</th>\n",
       "      <td>...</td>\n",
       "      <td>...</td>\n",
       "      <td>...</td>\n",
       "      <td>...</td>\n",
       "      <td>...</td>\n",
       "      <td>...</td>\n",
       "      <td>...</td>\n",
       "      <td>...</td>\n",
       "      <td>...</td>\n",
       "      <td>...</td>\n",
       "      <td>...</td>\n",
       "      <td>...</td>\n",
       "      <td>...</td>\n",
       "      <td>...</td>\n",
       "      <td>...</td>\n",
       "      <td>...</td>\n",
       "      <td>...</td>\n",
       "      <td>...</td>\n",
       "    </tr>\n",
       "    <tr>\n",
       "      <th>1460</th>\n",
       "      <td>B08L7J3T31</td>\n",
       "      <td>Noir Aqua - 5pcs PP Spun Filter + 1 Spanner | ...</td>\n",
       "      <td>Home&amp;Kitchen|Kitchen&amp;HomeAppliances|WaterPurif...</td>\n",
       "      <td>379.0</td>\n",
       "      <td>919.0</td>\n",
       "      <td>0.59</td>\n",
       "      <td>4.0</td>\n",
       "      <td>1090.0</td>\n",
       "      <td>SUPREME QUALITY 90 GRAM 3 LAYER THIK PP SPUN F...</td>\n",
       "      <td>AHITFY6AHALOFOHOZEOC6XBP4FEA,AFRABBODZJZQB6Z4U...</td>\n",
       "      <td>Prabha ds,Raghuram bk,Real Deal,Amazon Custome...</td>\n",
       "      <td>R3G3XFHPBFF0E8,R3C0BZCD32EIGW,R2EBVBCN9QPD9R,R...</td>\n",
       "      <td>Received the product without spanner,Excellent...</td>\n",
       "      <td>I received product without spanner,Excellent p...</td>\n",
       "      <td>https://m.media-amazon.com/images/I/41fDdRtjfx...</td>\n",
       "      <td>https://www.amazon.in/Noir-Aqua-Spanner-Purifi...</td>\n",
       "      <td>C</td>\n",
       "      <td>Received the product without spanner,Excellent...</td>\n",
       "    </tr>\n",
       "    <tr>\n",
       "      <th>1461</th>\n",
       "      <td>B01M6453MB</td>\n",
       "      <td>Prestige Delight PRWO Electric Rice Cooker (1 ...</td>\n",
       "      <td>Home&amp;Kitchen|Kitchen&amp;HomeAppliances|SmallKitch...</td>\n",
       "      <td>2280.0</td>\n",
       "      <td>3045.0</td>\n",
       "      <td>0.25</td>\n",
       "      <td>4.1</td>\n",
       "      <td>4118.0</td>\n",
       "      <td>230 Volts, 400 watts, 1 Year</td>\n",
       "      <td>AFG5FM3NEMOL6BNFRV2NK5FNJCHQ,AGEINTRN6Z563RMLH...</td>\n",
       "      <td>Manu Bhai,Naveenpittu,Evatira Sangma,JAGANNADH...</td>\n",
       "      <td>R3DDL2UPKQ2CK9,R2SYYU1OATVIU5,R1VM993161IYRW,R...</td>\n",
       "      <td>ok,everything was good couldn't return bcoz I ...</td>\n",
       "      <td>ok,got everything as mentioned but the measuri...</td>\n",
       "      <td>https://m.media-amazon.com/images/I/41gzDxk4+k...</td>\n",
       "      <td>https://www.amazon.in/Prestige-Delight-PRWO-1-...</td>\n",
       "      <td>B</td>\n",
       "      <td>ok,everything was good couldn't return bcoz I ...</td>\n",
       "    </tr>\n",
       "    <tr>\n",
       "      <th>1462</th>\n",
       "      <td>B009P2LIL4</td>\n",
       "      <td>Bajaj Majesty RX10 2000 Watts Heat Convector R...</td>\n",
       "      <td>Home&amp;Kitchen|Heating,Cooling&amp;AirQuality|RoomHe...</td>\n",
       "      <td>2219.0</td>\n",
       "      <td>3080.0</td>\n",
       "      <td>0.28</td>\n",
       "      <td>3.6</td>\n",
       "      <td>468.0</td>\n",
       "      <td>International design and styling|Two heat sett...</td>\n",
       "      <td>AGVPWCMAHYQWJOQKMUJN4DW3KM5Q,AF4Q3E66MY4SR7YQZ...</td>\n",
       "      <td>Nehal Desai,Danish Parwez,Amazon Customer,Amaz...</td>\n",
       "      <td>R1TLRJVW4STY5I,R2O455KRN493R1,R3Q5MVGBRIAS2G,R...</td>\n",
       "      <td>very good,Work but front melt after 2 month,Go...</td>\n",
       "      <td>plastic but cool body ,u have to find sturdy s...</td>\n",
       "      <td>https://m.media-amazon.com/images/W/WEBP_40237...</td>\n",
       "      <td>https://www.amazon.in/Bajaj-RX-10-2000-Watt-Co...</td>\n",
       "      <td>C</td>\n",
       "      <td>very good,Work but front melt after 2 month,Go...</td>\n",
       "    </tr>\n",
       "    <tr>\n",
       "      <th>1463</th>\n",
       "      <td>B00J5DYCCA</td>\n",
       "      <td>Havells Ventil Air DSP 230mm Exhaust Fan (Pist...</td>\n",
       "      <td>Home&amp;Kitchen|Heating,Cooling&amp;AirQuality|Fans|E...</td>\n",
       "      <td>1399.0</td>\n",
       "      <td>1890.0</td>\n",
       "      <td>0.26</td>\n",
       "      <td>4.0</td>\n",
       "      <td>8031.0</td>\n",
       "      <td>Fan sweep area: 230 MM ; Noise level: (40 - 45...</td>\n",
       "      <td>AF2JQCLSCY3QJATWUNNHUSVUPNQQ,AFDMLUXC5LS5RXDJS...</td>\n",
       "      <td>Shubham Dubey,E.GURUBARAN,Mayank S.,eusuf khan...</td>\n",
       "      <td>R39Q2Y79MM9SWK,R3079BG1NIH6MB,R29A31ZELTZNJM,R...</td>\n",
       "      <td>Fan Speed is slow,Good quality,Good product,go...</td>\n",
       "      <td>I have installed this in my kitchen working fi...</td>\n",
       "      <td>https://m.media-amazon.com/images/W/WEBP_40237...</td>\n",
       "      <td>https://www.amazon.in/Havells-Ventilair-230mm-...</td>\n",
       "      <td>C</td>\n",
       "      <td>Fan Speed is slow,Good quality,Good product,go...</td>\n",
       "    </tr>\n",
       "    <tr>\n",
       "      <th>1464</th>\n",
       "      <td>B01486F4G6</td>\n",
       "      <td>Borosil Jumbo 1000-Watt Grill Sandwich Maker (...</td>\n",
       "      <td>Home&amp;Kitchen|Kitchen&amp;HomeAppliances|SmallKitch...</td>\n",
       "      <td>2863.0</td>\n",
       "      <td>3690.0</td>\n",
       "      <td>0.22</td>\n",
       "      <td>4.3</td>\n",
       "      <td>6987.0</td>\n",
       "      <td>Brand-Borosil, Specification â€“ 23V ~ 5Hz;1 W...</td>\n",
       "      <td>AFGW5PT3R6ZAVQR4Y5MWVAKBZAYA,AG7QNJ2SCS5VS5VYY...</td>\n",
       "      <td>Rajib,Ajay B,Vikas Kahol,PARDEEP,Anindya Prama...</td>\n",
       "      <td>R20RBRZ0WEUJT9,ROKIFK9R2ISSE,R30EEG2FNJSN5I,R2...</td>\n",
       "      <td>Works perfect,Ok good product,Nice Product. Re...</td>\n",
       "      <td>It does it job perfectly..only issue is temp c...</td>\n",
       "      <td>https://m.media-amazon.com/images/W/WEBP_40237...</td>\n",
       "      <td>https://www.amazon.in/Borosil-Jumbo-1000-Watt-...</td>\n",
       "      <td>A</td>\n",
       "      <td>Works perfect,Ok good product,Nice Product. Re...</td>\n",
       "    </tr>\n",
       "  </tbody>\n",
       "</table>\n",
       "<p>1462 rows × 18 columns</p>\n",
       "</div>"
      ],
      "text/plain": [
       "      product_id                                       product_name  \\\n",
       "0     B07JW9H4J1  Wayona Nylon Braided USB to Lightning Fast Cha...   \n",
       "1     B098NS6PVG  Ambrane Unbreakable 60W / 3A Fast Charging 1.5...   \n",
       "2     B096MSW6CT  Sounce Fast Phone Charging Cable & Data Sync U...   \n",
       "3     B08HDJ86NZ  boAt Deuce USB 300 2 in 1 Type-C & Micro USB S...   \n",
       "4     B08CF3B7N1  Portronics Konnect L 1.2M Fast Charging 3A 8 P...   \n",
       "...          ...                                                ...   \n",
       "1460  B08L7J3T31  Noir Aqua - 5pcs PP Spun Filter + 1 Spanner | ...   \n",
       "1461  B01M6453MB  Prestige Delight PRWO Electric Rice Cooker (1 ...   \n",
       "1462  B009P2LIL4  Bajaj Majesty RX10 2000 Watts Heat Convector R...   \n",
       "1463  B00J5DYCCA  Havells Ventil Air DSP 230mm Exhaust Fan (Pist...   \n",
       "1464  B01486F4G6  Borosil Jumbo 1000-Watt Grill Sandwich Maker (...   \n",
       "\n",
       "                                               category  discounted_price  \\\n",
       "0     Computers&Accessories|Accessories&Peripherals|...             399.0   \n",
       "1     Computers&Accessories|Accessories&Peripherals|...             199.0   \n",
       "2     Computers&Accessories|Accessories&Peripherals|...             199.0   \n",
       "3     Computers&Accessories|Accessories&Peripherals|...             329.0   \n",
       "4     Computers&Accessories|Accessories&Peripherals|...             154.0   \n",
       "...                                                 ...               ...   \n",
       "1460  Home&Kitchen|Kitchen&HomeAppliances|WaterPurif...             379.0   \n",
       "1461  Home&Kitchen|Kitchen&HomeAppliances|SmallKitch...            2280.0   \n",
       "1462  Home&Kitchen|Heating,Cooling&AirQuality|RoomHe...            2219.0   \n",
       "1463  Home&Kitchen|Heating,Cooling&AirQuality|Fans|E...            1399.0   \n",
       "1464  Home&Kitchen|Kitchen&HomeAppliances|SmallKitch...            2863.0   \n",
       "\n",
       "      actual_price  discount_percentage  rating  rating_count  \\\n",
       "0           1099.0                 0.64     4.2       24269.0   \n",
       "1            349.0                 0.43     4.0       43994.0   \n",
       "2           1899.0                 0.90     3.9        7928.0   \n",
       "3            699.0                 0.53     4.2       94363.0   \n",
       "4            399.0                 0.61     4.2       16905.0   \n",
       "...            ...                  ...     ...           ...   \n",
       "1460         919.0                 0.59     4.0        1090.0   \n",
       "1461        3045.0                 0.25     4.1        4118.0   \n",
       "1462        3080.0                 0.28     3.6         468.0   \n",
       "1463        1890.0                 0.26     4.0        8031.0   \n",
       "1464        3690.0                 0.22     4.3        6987.0   \n",
       "\n",
       "                                          about_product  \\\n",
       "0     High Compatibility : Compatible With iPhone 12...   \n",
       "1     Compatible with all Type C enabled devices, be...   \n",
       "2     【 Fast Charger& Data Sync】-With built-in safet...   \n",
       "3     The boAt Deuce USB 300 2 in 1 cable is compati...   \n",
       "4     [CHARGE & SYNC FUNCTION]- This cable comes wit...   \n",
       "...                                                 ...   \n",
       "1460  SUPREME QUALITY 90 GRAM 3 LAYER THIK PP SPUN F...   \n",
       "1461                       230 Volts, 400 watts, 1 Year   \n",
       "1462  International design and styling|Two heat sett...   \n",
       "1463  Fan sweep area: 230 MM ; Noise level: (40 - 45...   \n",
       "1464  Brand-Borosil, Specification â€“ 23V ~ 5Hz;1 W...   \n",
       "\n",
       "                                                user_id  \\\n",
       "0     AG3D6O4STAQKAY2UVGEUV46KN35Q,AHMY5CWJMMK5BJRBB...   \n",
       "1     AECPFYFQVRUWC3KGNLJIOREFP5LQ,AGYYVPDD7YG7FYNBX...   \n",
       "2     AGU3BBQ2V2DDAMOAKGFAWDDQ6QHA,AESFLDV2PT363T2AQ...   \n",
       "3     AEWAZDZZJLQUYVOVGBEUKSLXHQ5A,AG5HTSFRRE6NL3M5S...   \n",
       "4     AE3Q6KSUK5P75D5HFYHCRAOLODSA,AFUGIFH5ZAFXRDSZH...   \n",
       "...                                                 ...   \n",
       "1460  AHITFY6AHALOFOHOZEOC6XBP4FEA,AFRABBODZJZQB6Z4U...   \n",
       "1461  AFG5FM3NEMOL6BNFRV2NK5FNJCHQ,AGEINTRN6Z563RMLH...   \n",
       "1462  AGVPWCMAHYQWJOQKMUJN4DW3KM5Q,AF4Q3E66MY4SR7YQZ...   \n",
       "1463  AF2JQCLSCY3QJATWUNNHUSVUPNQQ,AFDMLUXC5LS5RXDJS...   \n",
       "1464  AFGW5PT3R6ZAVQR4Y5MWVAKBZAYA,AG7QNJ2SCS5VS5VYY...   \n",
       "\n",
       "                                              user_name  \\\n",
       "0     Manav,Adarsh gupta,Sundeep,S.Sayeed Ahmed,jasp...   \n",
       "1     ArdKn,Nirbhay kumar,Sagar Viswanathan,Asp,Plac...   \n",
       "2     Kunal,Himanshu,viswanath,sai niharka,saqib mal...   \n",
       "3     Omkar dhale,JD,HEMALATHA,Ajwadh a.,amar singh ...   \n",
       "4     rahuls6099,Swasat Borah,Ajay Wadke,Pranali,RVK...   \n",
       "...                                                 ...   \n",
       "1460  Prabha ds,Raghuram bk,Real Deal,Amazon Custome...   \n",
       "1461  Manu Bhai,Naveenpittu,Evatira Sangma,JAGANNADH...   \n",
       "1462  Nehal Desai,Danish Parwez,Amazon Customer,Amaz...   \n",
       "1463  Shubham Dubey,E.GURUBARAN,Mayank S.,eusuf khan...   \n",
       "1464  Rajib,Ajay B,Vikas Kahol,PARDEEP,Anindya Prama...   \n",
       "\n",
       "                                              review_id  \\\n",
       "0     R3HXWT0LRP0NMF,R2AJM3LFTLZHFO,R6AQJGUP6P86,R1K...   \n",
       "1     RGIQEG07R9HS2,R1SMWZQ86XIN8U,R2J3Y1WL29GWDE,RY...   \n",
       "2     R3J3EQQ9TZI5ZJ,R3E7WBGK7ID0KV,RWU79XKQ6I1QF,R2...   \n",
       "3     R3EEUZKKK9J36I,R3HJVYCLYOY554,REDECAZ7AMPQC,R1...   \n",
       "4     R1BP4L2HH9TFUP,R16PVJEXKV6QZS,R2UPDB81N66T4P,R...   \n",
       "...                                                 ...   \n",
       "1460  R3G3XFHPBFF0E8,R3C0BZCD32EIGW,R2EBVBCN9QPD9R,R...   \n",
       "1461  R3DDL2UPKQ2CK9,R2SYYU1OATVIU5,R1VM993161IYRW,R...   \n",
       "1462  R1TLRJVW4STY5I,R2O455KRN493R1,R3Q5MVGBRIAS2G,R...   \n",
       "1463  R39Q2Y79MM9SWK,R3079BG1NIH6MB,R29A31ZELTZNJM,R...   \n",
       "1464  R20RBRZ0WEUJT9,ROKIFK9R2ISSE,R30EEG2FNJSN5I,R2...   \n",
       "\n",
       "                                           review_title  \\\n",
       "0     Satisfied,Charging is really fast,Value for mo...   \n",
       "1     A Good Braided Cable for Your Type C Device,Go...   \n",
       "2     Good speed for earlier versions,Good Product,W...   \n",
       "3     Good product,Good one,Nice,Really nice product...   \n",
       "4     As good as original,Decent,Good one for second...   \n",
       "...                                                 ...   \n",
       "1460  Received the product without spanner,Excellent...   \n",
       "1461  ok,everything was good couldn't return bcoz I ...   \n",
       "1462  very good,Work but front melt after 2 month,Go...   \n",
       "1463  Fan Speed is slow,Good quality,Good product,go...   \n",
       "1464  Works perfect,Ok good product,Nice Product. Re...   \n",
       "\n",
       "                                         review_content  \\\n",
       "0     Looks durable Charging is fine tooNo complains...   \n",
       "1     I ordered this cable to connect my phone to An...   \n",
       "2     Not quite durable and sturdy,https://m.media-a...   \n",
       "3     Good product,long wire,Charges good,Nice,I bou...   \n",
       "4     Bought this instead of original apple, does th...   \n",
       "...                                                 ...   \n",
       "1460  I received product without spanner,Excellent p...   \n",
       "1461  ok,got everything as mentioned but the measuri...   \n",
       "1462  plastic but cool body ,u have to find sturdy s...   \n",
       "1463  I have installed this in my kitchen working fi...   \n",
       "1464  It does it job perfectly..only issue is temp c...   \n",
       "\n",
       "                                               img_link  \\\n",
       "0     https://m.media-amazon.com/images/W/WEBP_40237...   \n",
       "1     https://m.media-amazon.com/images/W/WEBP_40237...   \n",
       "2     https://m.media-amazon.com/images/W/WEBP_40237...   \n",
       "3     https://m.media-amazon.com/images/I/41V5FtEWPk...   \n",
       "4     https://m.media-amazon.com/images/W/WEBP_40237...   \n",
       "...                                                 ...   \n",
       "1460  https://m.media-amazon.com/images/I/41fDdRtjfx...   \n",
       "1461  https://m.media-amazon.com/images/I/41gzDxk4+k...   \n",
       "1462  https://m.media-amazon.com/images/W/WEBP_40237...   \n",
       "1463  https://m.media-amazon.com/images/W/WEBP_40237...   \n",
       "1464  https://m.media-amazon.com/images/W/WEBP_40237...   \n",
       "\n",
       "                                           product_link new_rating  \\\n",
       "0     https://www.amazon.in/Wayona-Braided-WN3LG1-Sy...          B   \n",
       "1     https://www.amazon.in/Ambrane-Unbreakable-Char...          C   \n",
       "2     https://www.amazon.in/Sounce-iPhone-Charging-C...          C   \n",
       "3     https://www.amazon.in/Deuce-300-Resistant-Tang...          B   \n",
       "4     https://www.amazon.in/Portronics-Konnect-POR-1...          B   \n",
       "...                                                 ...        ...   \n",
       "1460  https://www.amazon.in/Noir-Aqua-Spanner-Purifi...          C   \n",
       "1461  https://www.amazon.in/Prestige-Delight-PRWO-1-...          B   \n",
       "1462  https://www.amazon.in/Bajaj-RX-10-2000-Watt-Co...          C   \n",
       "1463  https://www.amazon.in/Havells-Ventilair-230mm-...          C   \n",
       "1464  https://www.amazon.in/Borosil-Jumbo-1000-Watt-...          A   \n",
       "\n",
       "                                          combined_text  \n",
       "0     Satisfied,Charging is really fast,Value for mo...  \n",
       "1     A Good Braided Cable for Your Type C Device,Go...  \n",
       "2     Good speed for earlier versions,Good Product,W...  \n",
       "3     Good product,Good one,Nice,Really nice product...  \n",
       "4     As good as original,Decent,Good one for second...  \n",
       "...                                                 ...  \n",
       "1460  Received the product without spanner,Excellent...  \n",
       "1461  ok,everything was good couldn't return bcoz I ...  \n",
       "1462  very good,Work but front melt after 2 month,Go...  \n",
       "1463  Fan Speed is slow,Good quality,Good product,go...  \n",
       "1464  Works perfect,Ok good product,Nice Product. Re...  \n",
       "\n",
       "[1462 rows x 18 columns]"
      ]
     },
     "execution_count": 45,
     "metadata": {},
     "output_type": "execute_result"
    }
   ],
   "source": [
    "train1_list2"
   ]
  },
  {
   "cell_type": "code",
   "execution_count": 93,
   "id": "b72c23f2",
   "metadata": {},
   "outputs": [
    {
     "name": "stderr",
     "output_type": "stream",
     "text": [
      "C:\\Users\\hk679\\AppData\\Local\\Temp\\ipykernel_55856\\2251774178.py:2: SettingWithCopyWarning: \n",
      "A value is trying to be set on a copy of a slice from a DataFrame.\n",
      "Try using .loc[row_indexer,col_indexer] = value instead\n",
      "\n",
      "See the caveats in the documentation: https://pandas.pydata.org/pandas-docs/stable/user_guide/indexing.html#returning-a-view-versus-a-copy\n",
      "  train1_list2['encoded_rating'] = train1_list2[\"new_rating\"].apply(lambda x: labels[x])\n"
     ]
    }
   ],
   "source": [
    "labels = {'A': 0, 'B': 1, 'C': 2}\n",
    "train1_list2['encoded_rating'] = train1_list2[\"new_rating\"].apply(lambda x: labels[x])"
   ]
  },
  {
   "cell_type": "code",
   "execution_count": 94,
   "id": "1d298e46",
   "metadata": {
    "scrolled": true
   },
   "outputs": [
    {
     "data": {
      "text/plain": [
       "0       1\n",
       "1       2\n",
       "2       2\n",
       "3       1\n",
       "4       1\n",
       "       ..\n",
       "1460    2\n",
       "1461    1\n",
       "1462    2\n",
       "1463    2\n",
       "1464    0\n",
       "Name: encoded_rating, Length: 1462, dtype: int64"
      ]
     },
     "execution_count": 94,
     "metadata": {},
     "output_type": "execute_result"
    }
   ],
   "source": [
    "train1_list2['encoded_rating']"
   ]
  },
  {
   "cell_type": "code",
   "execution_count": 71,
   "id": "975b7542",
   "metadata": {},
   "outputs": [],
   "source": [
    "from transformers import BertTokenizer\n",
    "from sklearn.model_selection import train_test_split"
   ]
  },
  {
   "cell_type": "code",
   "execution_count": 116,
   "id": "3677894d",
   "metadata": {},
   "outputs": [],
   "source": [
    "tokenizer = BertTokenizer.from_pretrained('bert-base-uncased')"
   ]
  },
  {
   "cell_type": "code",
   "execution_count": 73,
   "id": "1b85a1d1",
   "metadata": {},
   "outputs": [],
   "source": [
    "X_train, X_val, y_train, y_val = train_test_split(\n",
    "    train1_list2['review_title'], \n",
    "    train1_list2['encoded_rating'], \n",
    "    test_size=0.2\n",
    ")"
   ]
  },
  {
   "cell_type": "code",
   "execution_count": 74,
   "id": "df11a348",
   "metadata": {},
   "outputs": [],
   "source": [
    "train_encodings = tokenizer(X_train.tolist(), truncation=True, padding=True, max_length=512)\n",
    "val_encodings = tokenizer(X_val.tolist(), truncation=True, padding=True, max_length=512)"
   ]
  },
  {
   "cell_type": "code",
   "execution_count": 75,
   "id": "1f29a562",
   "metadata": {},
   "outputs": [],
   "source": [
    "class SimpleDataset(torch.utils.data.Dataset):\n",
    "    def __init__(self, encodings, labels):\n",
    "        self.encodings = {key: torch.tensor(val) for key, val in encodings.items()}\n",
    "        self.labels = labels\n",
    "\n",
    "    def __getitem__(self, idx):\n",
    "        item = {key: val[idx] for key, val in self.encodings.items()}\n",
    "        item['labels'] = torch.tensor(self.labels[idx])\n",
    "        return item\n",
    "\n",
    "    def __len__(self):\n",
    "        return len(self.labels)"
   ]
  },
  {
   "cell_type": "code",
   "execution_count": 79,
   "id": "32ea474c",
   "metadata": {},
   "outputs": [],
   "source": [
    "train_dataset = SimpleDataset(train_encodings, y_train.tolist())\n",
    "val_dataset = SimpleDataset(val_encodings, y_val.tolist())"
   ]
  },
  {
   "cell_type": "code",
   "execution_count": 57,
   "id": "bfa8bd07",
   "metadata": {},
   "outputs": [],
   "source": [
    "X_train, X_val, y_train, y_val = train_test_split(\n",
    "    train1_list2['review_title'],  # 'combined_text' 대신 다른 텍스트 컬럼을 사용할 수 있습니다.\n",
    "    train1_list2['encoded_rating'],  # 레이블을 나타내는 컬럼\n",
    "    test_size=0.2\n",
    ")"
   ]
  },
  {
   "cell_type": "code",
   "execution_count": 50,
   "id": "15c28796",
   "metadata": {},
   "outputs": [],
   "source": [
    "trainer = Trainer(\n",
    "    model=model,\n",
    "    args=TrainingArguments(\n",
    "        output_dir='./temp',\n",
    "        per_device_eval_batch_size=8\n",
    "    )\n",
    ")"
   ]
  },
  {
   "cell_type": "code",
   "execution_count": 54,
   "id": "c2a8d3be",
   "metadata": {},
   "outputs": [],
   "source": [
    "from transformers import BertTokenizer"
   ]
  },
  {
   "cell_type": "code",
   "execution_count": 66,
   "id": "0993464b",
   "metadata": {},
   "outputs": [],
   "source": []
  },
  {
   "cell_type": "code",
   "execution_count": 67,
   "id": "da023cf5",
   "metadata": {},
   "outputs": [],
   "source": [
    "X_train, X_val, y_train, y_val = train_test_split(\n",
    "    train1_list2['review_title'],  # 또는 'review_content', 'review_title' 등 다른 컬럼을 사용할 수 있습니다.\n",
    "    train1_list2['encoded_rating'],\n",
    "    test_size=0.2\n",
    ")"
   ]
  },
  {
   "cell_type": "code",
   "execution_count": 68,
   "id": "f9566bbd",
   "metadata": {},
   "outputs": [],
   "source": [
    "rain_encodings = tokenizer(X_train.tolist(), truncation=True, padding=True, max_length=512)\n",
    "val_encodings = tokenizer(X_val.tolist(), truncation=True, padding=True, max_length=512)"
   ]
  },
  {
   "cell_type": "code",
   "execution_count": 69,
   "id": "90310c1c",
   "metadata": {},
   "outputs": [],
   "source": [
    "class SimpleDataset(torch.utils.data.Dataset):\n",
    "    def __init__(self, encodings, labels):\n",
    "        self.encodings = {key: torch.tensor(val) for key, val in encodings.items()}\n",
    "        self.labels = labels if isinstance(labels, list) else labels.tolist()\n",
    "\n",
    "    def __getitem__(self, idx):\n",
    "        item = {key: val[idx] for key, val in self.encodings.items()}\n",
    "        item['labels'] = torch.tensor(self.labels[idx])\n",
    "        return item\n",
    "\n",
    "    def __len__(self):\n",
    "        return len(self.labels)"
   ]
  },
  {
   "cell_type": "code",
   "execution_count": 77,
   "id": "7d43e6f5",
   "metadata": {},
   "outputs": [],
   "source": [
    "train_dataset = SimpleDataset(train_encodings.data, y_train)\n",
    "val_dataset = SimpleDataset(val_encodings.data, y_val)"
   ]
  },
  {
   "cell_type": "code",
   "execution_count": 83,
   "id": "01e336e2",
   "metadata": {},
   "outputs": [],
   "source": [
    "class SimpleDataset(torch.utils.data.Dataset):\n",
    "    def __init__(self, encodings, labels):\n",
    "        self.encodings = {key: torch.tensor(val) for key, val in encodings.items()}\n",
    "        self.labels = labels.tolist() if isinstance(labels, pd.Series) else labels\n",
    "\n",
    "    def __getitem__(self, idx):\n",
    "        item = {key: self.encodings[key][idx] for key in self.encodings}\n",
    "        item['labels'] = torch.tensor(self.labels[idx], dtype=torch.long)\n",
    "        return item\n",
    "\n",
    "    def __len__(self):\n",
    "        return len(self.labels)"
   ]
  },
  {
   "cell_type": "code",
   "execution_count": 98,
   "id": "48320d30",
   "metadata": {},
   "outputs": [],
   "source": [
    "train_dataset = SimpleDataset(train_encodings, y_train)\n",
    "val_dataset = SimpleDataset(val_encodings, y_val)"
   ]
  },
  {
   "cell_type": "code",
   "execution_count": 99,
   "id": "7143e78e",
   "metadata": {},
   "outputs": [],
   "source": [
    "class SimpleDataset(torch.utils.data.Dataset):\n",
    "    def __init__(self, encodings, labels):\n",
    "        self.encodings = {key: torch.tensor(val) for key, val in encodings.items()}\n",
    "        # pandas Series를 리스트로 변환\n",
    "        self.labels = labels.tolist() if isinstance(labels, pd.Series) else labels\n",
    "\n",
    "    def __getitem__(self, idx):\n",
    "        item = {key: self.encodings[key][idx] for key in self.encodings}\n",
    "        # 리스트를 인덱싱\n",
    "        item['labels'] = torch.tensor(self.labels[idx], dtype=torch.long)\n",
    "        return item\n",
    "\n",
    "    def __len__(self):\n",
    "        return len(self.labels)"
   ]
  },
  {
   "cell_type": "code",
   "execution_count": 100,
   "id": "866f3523",
   "metadata": {},
   "outputs": [],
   "source": [
    "train_dataset = SimpleDataset(train_encodings, y_train)\n",
    "val_dataset = SimpleDataset(val_encodings, y_val)"
   ]
  },
  {
   "cell_type": "code",
   "execution_count": 105,
   "id": "e2f25a4b",
   "metadata": {},
   "outputs": [],
   "source": [
    "import numpy as np\n",
    "from sklearn.metrics import accuracy_score"
   ]
  },
  {
   "cell_type": "code",
   "execution_count": 102,
   "id": "6b905141",
   "metadata": {},
   "outputs": [],
   "source": [
    "def calculate_accuracy(model, tokenizer, X_val, y_val):\n",
    "    # 데이터셋 준비\n",
    "    val_encodings = tokenizer(X_val.tolist(), truncation=True, padding=True, max_length=512, return_tensors=\"pt\")\n",
    "    val_dataset = SimpleDataset(val_encodings, y_val)\n",
    "\n",
    "    # Trainer 초기화\n",
    "    trainer = Trainer(model=model)\n",
    "\n",
    "    # 예측 수행\n",
    "    predictions = trainer.predict(val_dataset)\n",
    "    preds = np.argmax(predictions.predictions, axis=1)\n",
    "\n",
    "    # 정확도 계산\n",
    "    accuracy = accuracy_score(y_val, preds)\n",
    "    return accuracy"
   ]
  },
  {
   "cell_type": "code",
   "execution_count": 106,
   "id": "e48e262d",
   "metadata": {},
   "outputs": [
    {
     "name": "stderr",
     "output_type": "stream",
     "text": [
      "C:\\Users\\hk679\\AppData\\Local\\Temp\\ipykernel_55856\\755179752.py:3: UserWarning: To copy construct from a tensor, it is recommended to use sourceTensor.clone().detach() or sourceTensor.clone().detach().requires_grad_(True), rather than torch.tensor(sourceTensor).\n",
      "  self.encodings = {key: torch.tensor(val) for key, val in encodings.items()}\n"
     ]
    },
    {
     "data": {
      "text/html": [],
      "text/plain": [
       "<IPython.core.display.HTML object>"
      ]
     },
     "metadata": {},
     "output_type": "display_data"
    },
    {
     "name": "stderr",
     "output_type": "stream",
     "text": [
      "C:\\Users\\hk679\\AppData\\Local\\Temp\\ipykernel_55856\\755179752.py:3: UserWarning: To copy construct from a tensor, it is recommended to use sourceTensor.clone().detach() or sourceTensor.clone().detach().requires_grad_(True), rather than torch.tensor(sourceTensor).\n",
      "  self.encodings = {key: torch.tensor(val) for key, val in encodings.items()}\n"
     ]
    },
    {
     "data": {
      "text/html": [],
      "text/plain": [
       "<IPython.core.display.HTML object>"
      ]
     },
     "metadata": {},
     "output_type": "display_data"
    },
    {
     "name": "stderr",
     "output_type": "stream",
     "text": [
      "C:\\Users\\hk679\\AppData\\Local\\Temp\\ipykernel_55856\\755179752.py:3: UserWarning: To copy construct from a tensor, it is recommended to use sourceTensor.clone().detach() or sourceTensor.clone().detach().requires_grad_(True), rather than torch.tensor(sourceTensor).\n",
      "  self.encodings = {key: torch.tensor(val) for key, val in encodings.items()}\n"
     ]
    },
    {
     "data": {
      "text/html": [],
      "text/plain": [
       "<IPython.core.display.HTML object>"
      ]
     },
     "metadata": {},
     "output_type": "display_data"
    }
   ],
   "source": [
    "accuracy_content = calculate_accuracy(model_content, tokenizer, X_val, y_val)\n",
    "accuracy_title = calculate_accuracy(model_title, tokenizer, X_val, y_val)\n",
    "accuracy_combined = calculate_accuracy(model_combined, tokenizer, X_val, y_val)"
   ]
  },
  {
   "cell_type": "code",
   "execution_count": 109,
   "id": "b7b14ca4",
   "metadata": {
    "scrolled": true
   },
   "outputs": [
    {
     "name": "stdout",
     "output_type": "stream",
     "text": [
      "Content Model Accuracy: 0.4778156996587031\n",
      "Title Model Accuracy: 0.7713310580204779\n",
      "Combined Model Accuracy: 0.6109215017064846\n"
     ]
    }
   ],
   "source": [
    "print(f\"Content Model Accuracy: {accuracy_content}\")\n",
    "print(f\"Title Model Accuracy: {accuracy_title}\")\n",
    "print(f\"Combined Model Accuracy: {accuracy_combined}\")"
   ]
  },
  {
   "cell_type": "code",
   "execution_count": 112,
   "id": "bdf22839",
   "metadata": {},
   "outputs": [],
   "source": [
    "import matplotlib.pyplot as plt"
   ]
  },
  {
   "cell_type": "code",
   "execution_count": 110,
   "id": "611196cd",
   "metadata": {},
   "outputs": [],
   "source": [
    "model_accuracies = [accuracy_content, accuracy_title, accuracy_combined]\n"
   ]
  },
  {
   "cell_type": "code",
   "execution_count": 114,
   "id": "a7118411",
   "metadata": {},
   "outputs": [],
   "source": [
    "models = ['Content Model', 'Title Model', 'Combined Model']"
   ]
  },
  {
   "cell_type": "code",
   "execution_count": 115,
   "id": "ef288881",
   "metadata": {},
   "outputs": [
    {
     "data": {
      "image/png": "[encoded data removed]",
      "text/plain": [
       "<Figure size 800x600 with 1 Axes>"
      ]
     },
     "metadata": {},
     "output_type": "display_data"
    }
   ],
   "source": [
    "plt.figure(figsize=(8, 6))\n",
    "plt.bar(models, model_accuracies, color=['blue', 'orange', 'green'])\n",
    "plt.title('Model Accuracies')\n",
    "plt.ylabel('Accuracy')\n",
    "plt.ylim([0, 1])  # Accuracy is between 0 and 1\n",
    "plt.show()"
   ]
  }
 ],
 "metadata": {
  "kernelspec": {
   "display_name": "Python 3 (ipykernel)",
   "language": "python",
   "name": "python3"
  },
  "language_info": {
   "codemirror_mode": {
    "name": "ipython",
    "version": 3
   },
   "file_extension": ".py",
   "mimetype": "text/x-python",
   "name": "python",
   "nbconvert_exporter": "python",
   "pygments_lexer": "ipython3",
   "version": "3.9.13"
  }
 },
 "nbformat": 4,
 "nbformat_minor": 5
}
